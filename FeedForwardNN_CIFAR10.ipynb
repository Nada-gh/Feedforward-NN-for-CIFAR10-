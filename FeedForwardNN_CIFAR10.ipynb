{
  "nbformat": 4,
  "nbformat_minor": 0,
  "metadata": {
    "colab": {
      "name": "FeedForwardNN_CIFAR10.ipynb",
      "version": "0.3.2",
      "provenance": [],
      "include_colab_link": true
    },
    "kernelspec": {
      "display_name": "Python 3",
      "language": "python",
      "name": "python3"
    }
  },
  "cells": [
    {
      "cell_type": "markdown",
      "metadata": {
        "id": "view-in-github",
        "colab_type": "text"
      },
      "source": [
        "<a href=\"https://colab.research.google.com/github/Nada-gh/Feedforward-NN-for-CIFAR10-/blob/master/FeedForwardNN_CIFAR10.ipynb\" target=\"_parent\"><img src=\"https://colab.research.google.com/assets/colab-badge.svg\" alt=\"Open In Colab\"/></a>"
      ]
    },
    {
      "metadata": {
        "id": "FNWfDuB3gZqr",
        "colab_type": "code",
        "colab": {}
      },
      "cell_type": "code",
      "source": [
        "import torch\n",
        "import torch.nn as nn\n",
        "import torchvision.transforms as transforms\n",
        "from torchvision import utils\n",
        "import torchvision.datasets as dsets\n",
        "from torch.autograd import Variable\n"
      ],
      "execution_count": 0,
      "outputs": []
    },
    {
      "metadata": {
        "id": "-HOwQv_ggZq6",
        "colab_type": "text"
      },
      "cell_type": "markdown",
      "source": [
        "## STEP 1: LOADING DATASET"
      ]
    },
    {
      "metadata": {
        "id": "ne0WCAnngZq9",
        "colab_type": "code",
        "outputId": "d567b438-d3d1-4a03-8e0c-c3f11831cda3",
        "colab": {
          "base_uri": "https://localhost:8080/",
          "height": 35
        }
      },
      "cell_type": "code",
      "source": [
        "train_dataset = dsets.CIFAR10(root='./data', train=True, transform=transforms.ToTensor(),download=True)\n",
        "\n",
        "test_dataset = dsets.CIFAR10(root='./data', train=False, transform=transforms.ToTensor())"
      ],
      "execution_count": 0,
      "outputs": [
        {
          "output_type": "stream",
          "text": [
            "Downloading https://www.cs.toronto.edu/~kriz/cifar-10-python.tar.gz to ./data/cifar-10-python.tar.gz\n"
          ],
          "name": "stdout"
        }
      ]
    },
    {
      "metadata": {
        "id": "JcM9ozsygZrH",
        "colab_type": "text"
      },
      "cell_type": "markdown",
      "source": [
        "## STEP 2: MAKING DATASET ITERABLE"
      ]
    },
    {
      "metadata": {
        "id": "y1uXL8SkgZrM",
        "colab_type": "code",
        "colab": {}
      },
      "cell_type": "code",
      "source": [
        "batch_size = 100\n",
        "n_iters = 3000\n",
        "num_epochs = n_iters / (len(train_dataset) / batch_size)\n",
        "num_epochs = int(num_epochs)\n",
        "\n",
        "train_loader = torch.utils.data.DataLoader(dataset=train_dataset,batch_size=batch_size, shuffle=True)\n",
        "\n",
        "test_loader = torch.utils.data.DataLoader(dataset=test_dataset,batch_size=batch_size,shuffle=False)"
      ],
      "execution_count": 0,
      "outputs": []
    },
    {
      "metadata": {
        "id": "I8czKNx7gZrT",
        "colab_type": "text"
      },
      "cell_type": "markdown",
      "source": [
        "## STEP 3: CREATE MODEL CLASS"
      ]
    },
    {
      "metadata": {
        "id": "HJksAGKlgZrU",
        "colab_type": "code",
        "colab": {}
      },
      "cell_type": "code",
      "source": [
        "class FeedforwardNeuralNetModel(nn.Module):\n",
        "    def __init__(self, input_dim, hidden_dim, output_dim):\n",
        "        super(FeedforwardNeuralNetModel, self).__init__()\n",
        "        # Linear function 1: 3*32*32 --> 100\n",
        "        self.fc1 = nn.Linear(input_dim, hidden_dim) \n",
        "        # Non-linearity 1\n",
        "        self.relu1 = nn.ReLU()\n",
        "        \n",
        "        # Linear function 2: 100 --> 100\n",
        "        self.fc2 = nn.Linear(hidden_dim, hidden_dim)\n",
        "        # Non-linearity 2\n",
        "        self.relu2 = nn.ReLU()\n",
        "        \n",
        "        # Linear function 3: 100 --> 100\n",
        "        self.fc3 = nn.Linear(hidden_dim, hidden_dim)\n",
        "        # Non-linearity 3\n",
        "        self.relu3 = nn.ReLU()\n",
        "        \n",
        "        # Layer4\n",
        "        self.fc4 = nn.Linear(hidden_dim, hidden_dim)\n",
        "        # Non-linearity 4\n",
        "        self.relu4 = nn.ReLU()\n",
        "        \n",
        "        # Linear function 5 (readout): 100 --> 10\n",
        "        self.fc5 = nn.Linear(hidden_dim, output_dim)  \n",
        "    \n",
        "    def forward(self, x):\n",
        "        # Linear function 1\n",
        "        out = self.fc1(x)\n",
        "        # Non-linearity 1\n",
        "        out = self.relu1(out)\n",
        "        \n",
        "        # Linear function 2\n",
        "        out = self.fc2(out)\n",
        "        # Non-linearity 2\n",
        "        out = self.relu2(out)\n",
        "        \n",
        "        # Linear function 3\n",
        "        out = self.fc3(out)\n",
        "        # Non-linearity 3\n",
        "        out = self.relu3(out)\n",
        "        \n",
        "        # Linear function 4\n",
        "        out = self.fc4(out)\n",
        "        # Non-linearity 4\n",
        "        out = self.relu4(out)\n",
        "        \n",
        "        # Linear function 5 (readout)\n",
        "        out = self.fc5(out)\n",
        "        return out"
      ],
      "execution_count": 0,
      "outputs": []
    },
    {
      "metadata": {
        "id": "OXJ_G-l8gZrb",
        "colab_type": "text"
      },
      "cell_type": "markdown",
      "source": [
        "## STEP 4: INSTANTIATE MODEL CLASS"
      ]
    },
    {
      "metadata": {
        "id": "IMwNVq5agZre",
        "colab_type": "code",
        "colab": {}
      },
      "cell_type": "code",
      "source": [
        "input_dim = 3*32*32\n",
        "hidden_dim = 100\n",
        "output_dim = 10\n",
        "\n",
        "model = FeedforwardNeuralNetModel(input_dim, hidden_dim, output_dim)\n",
        "\n"
      ],
      "execution_count": 0,
      "outputs": []
    },
    {
      "metadata": {
        "id": "ot4SblNIgZrm",
        "colab_type": "text"
      },
      "cell_type": "markdown",
      "source": [
        "## STEP 5: INSTANTIATE LOSS CLASS"
      ]
    },
    {
      "metadata": {
        "id": "Lgop9VkSgZru",
        "colab_type": "code",
        "colab": {}
      },
      "cell_type": "code",
      "source": [
        "criterion = nn.CrossEntropyLoss()"
      ],
      "execution_count": 0,
      "outputs": []
    },
    {
      "metadata": {
        "id": "5Dvg3GcQgZr1",
        "colab_type": "text"
      },
      "cell_type": "markdown",
      "source": [
        "## STEP 6: INSTANTIATE OPTIMIZER CLASS"
      ]
    },
    {
      "metadata": {
        "id": "mv70GR-WgZr3",
        "colab_type": "code",
        "colab": {}
      },
      "cell_type": "code",
      "source": [
        "learning_rate = 0.1\n",
        "\n",
        "optimizer = torch.optim.SGD(model.parameters(), lr=learning_rate)"
      ],
      "execution_count": 0,
      "outputs": []
    },
    {
      "metadata": {
        "id": "dVUDwdSVgZsF",
        "colab_type": "text"
      },
      "cell_type": "markdown",
      "source": [
        "## STEP 7: TRAIN THE MODEL"
      ]
    },
    {
      "metadata": {
        "id": "7VCjtNEvgZsH",
        "colab_type": "code",
        "outputId": "e8c5c89a-005f-4e0b-8c3e-f4e4312c1cf2",
        "colab": {
          "base_uri": "https://localhost:8080/",
          "height": 128
        }
      },
      "cell_type": "code",
      "source": [
        "\n",
        "iter = 0\n",
        "for epoch in range(num_epochs):\n",
        "    for i, (images, labels) in enumerate(train_loader):\n",
        "        \n",
        "        images = Variable(images.view(-1, 3*32*32))\n",
        "        labels = Variable(labels)\n",
        "        \n",
        "        # Clear gradients w.r.t. parameters\n",
        "        optimizer.zero_grad()\n",
        "        \n",
        "        # Forward pass to get output/logits\n",
        "        outputs = model(images)\n",
        "        \n",
        "        # Calculate Loss: softmax --> cross entropy loss\n",
        "        loss = criterion(outputs, labels)\n",
        "        \n",
        "        # Getting gradients w.r.t. parameters\n",
        "        loss.backward()\n",
        "        \n",
        "        # Updating parameters\n",
        "        optimizer.step()\n",
        "        \n",
        "        iter += 1\n",
        "        \n",
        "        if iter % 500 == 0:\n",
        "            # Calculate Accuracy         \n",
        "            correct = 0\n",
        "            total = 0\n",
        "            # Iterate through test dataset\n",
        "            for images, labels in test_loader:\n",
        "               \n",
        "                images = Variable(images.view(-1,3*32*32))\n",
        "                \n",
        "                # Forward pass only to get logits/output\n",
        "                outputs = model(images)\n",
        "                \n",
        "                # Get predictions from the maximum value\n",
        "                _, predicted = torch.max(outputs.data, 1)\n",
        "                \n",
        "                # Total number of labels\n",
        "                total += labels.size(0)\n",
        "                \n",
        "                \n",
        "                # Total correct predictions\n",
        "                correct += (predicted.cpu() == labels).sum()\n",
        "            \n",
        "            accuracy = 100 * correct / total\n",
        "            \n",
        "            # Print Loss\n",
        "            print('Iteration: {}. Loss: {}. Accuracy: {}'.format(iter, loss.data, accuracy))"
      ],
      "execution_count": 0,
      "outputs": [
        {
          "output_type": "stream",
          "text": [
            "Iteration: 500. Loss: 1.9814364910125732. Accuracy: 28\n",
            "Iteration: 1000. Loss: 1.6893314123153687. Accuracy: 36\n",
            "Iteration: 1500. Loss: 1.7576837539672852. Accuracy: 38\n",
            "Iteration: 2000. Loss: 1.7674221992492676. Accuracy: 40\n",
            "Iteration: 2500. Loss: 1.662770390510559. Accuracy: 41\n",
            "Iteration: 3000. Loss: 1.529433250427246. Accuracy: 41\n"
          ],
          "name": "stdout"
        }
      ]
    },
    {
      "metadata": {
        "id": "n5RHgF0vgZsO",
        "colab_type": "code",
        "colab": {}
      },
      "cell_type": "code",
      "source": [
        ""
      ],
      "execution_count": 0,
      "outputs": []
    }
  ]
}